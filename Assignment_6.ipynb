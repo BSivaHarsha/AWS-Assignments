{
  "nbformat": 4,
  "nbformat_minor": 0,
  "metadata": {
    "colab": {
      "provenance": [],
      "authorship_tag": "ABX9TyM5WpzU+jYs4D9JZ2VSVY+I",
      "include_colab_link": true
    },
    "kernelspec": {
      "name": "python3",
      "display_name": "Python 3"
    },
    "language_info": {
      "name": "python"
    }
  },
  "cells": [
    {
      "cell_type": "markdown",
      "metadata": {
        "id": "view-in-github",
        "colab_type": "text"
      },
      "source": [
        "<a href=\"https://colab.research.google.com/github/BSivaHarsha/AWS-Assignments/blob/main/Assignment_6.ipynb\" target=\"_parent\"><img src=\"https://colab.research.google.com/assets/colab-badge.svg\" alt=\"Open In Colab\"/></a>"
      ]
    },
    {
      "cell_type": "code",
      "execution_count": 1,
      "metadata": {
        "colab": {
          "base_uri": "https://localhost:8080/"
        },
        "id": "25KiHKPyyvLH",
        "outputId": "9315060b-b00a-4680-d335-1b56089d1be0"
      },
      "outputs": [
        {
          "output_type": "stream",
          "name": "stdout",
          "text": [
            "(4, 0)\n"
          ]
        }
      ],
      "source": [
        "def cow_bull(secret, guess):\n",
        "    cow = sum(s == g for s, g in zip(secret, guess))\n",
        "    bull = sum(g in secret for g in guess) - cow\n",
        "    return cow, bull\n",
        "\n",
        "# Example usage\n",
        "secret = \"hello\"\n",
        "guess = \"hallo\"\n",
        "print(cow_bull(secret, guess))"
      ]
    },
    {
      "cell_type": "code",
      "source": [
        "\n",
        "def is_palindrome(s):\n",
        "    return s == s[::-1]\n",
        "\n",
        "# Example usage\n",
        "print(is_palindrome(\"radar\"))\n",
        "print(is_palindrome(\"hello\"))"
      ],
      "metadata": {
        "colab": {
          "base_uri": "https://localhost:8080/"
        },
        "id": "T1pv6QABy0yu",
        "outputId": "2166bdbd-75c5-43cb-f52b-036b41744228"
      },
      "execution_count": 2,
      "outputs": [
        {
          "output_type": "stream",
          "name": "stdout",
          "text": [
            "True\n",
            "False\n"
          ]
        }
      ]
    },
    {
      "cell_type": "code",
      "source": [
        "\n",
        "def fibonacci(n):\n",
        "    fibo = [0, 1]\n",
        "    while len(fibo) < n:\n",
        "        fibo.append(fibo[-1] + fibo[-2])\n",
        "    return fibo[:n]\n",
        "\n",
        "# Example usage\n",
        "print(fibonacci(10))\n",
        ""
      ],
      "metadata": {
        "colab": {
          "base_uri": "https://localhost:8080/"
        },
        "id": "gDMx6eKPy5l5",
        "outputId": "22959cc5-f6df-48db-8c66-8b34c2782084"
      },
      "execution_count": 3,
      "outputs": [
        {
          "output_type": "stream",
          "name": "stdout",
          "text": [
            "[0, 1, 1, 2, 3, 5, 8, 13, 21, 34]\n"
          ]
        }
      ]
    },
    {
      "cell_type": "code",
      "source": [
        "\n",
        "def my_range(start, stop=None, step=1):\n",
        "    if stop is None:\n",
        "        stop = start\n",
        "        start = 0\n",
        "    return list(range(start, stop, step))\n",
        "\n",
        "# Example usage\n",
        "print(my_range(5))\n",
        "print(my_range(2, 8, 2))"
      ],
      "metadata": {
        "colab": {
          "base_uri": "https://localhost:8080/"
        },
        "id": "ck2rYMiGy8hV",
        "outputId": "5c6bc201-9e03-4c5c-9bba-79297b4ea83b"
      },
      "execution_count": 4,
      "outputs": [
        {
          "output_type": "stream",
          "name": "stdout",
          "text": [
            "[0, 1, 2, 3, 4]\n",
            "[2, 4, 6]\n"
          ]
        }
      ]
    }
  ]
}