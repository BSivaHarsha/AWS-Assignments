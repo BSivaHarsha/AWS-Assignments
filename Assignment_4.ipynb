{
  "nbformat": 4,
  "nbformat_minor": 0,
  "metadata": {
    "colab": {
      "provenance": [],
      "authorship_tag": "ABX9TyNuReRXOvllsEg6tMWlpeXh",
      "include_colab_link": true
    },
    "kernelspec": {
      "name": "python3",
      "display_name": "Python 3"
    },
    "language_info": {
      "name": "python"
    }
  },
  "cells": [
    {
      "cell_type": "markdown",
      "metadata": {
        "id": "view-in-github",
        "colab_type": "text"
      },
      "source": [
        "<a href=\"https://colab.research.google.com/github/BSivaHarsha/AWS-Assignments/blob/main/Assignment_4.ipynb\" target=\"_parent\"><img src=\"https://colab.research.google.com/assets/colab-badge.svg\" alt=\"Open In Colab\"/></a>"
      ]
    },
    {
      "cell_type": "code",
      "execution_count": 1,
      "metadata": {
        "colab": {
          "base_uri": "https://localhost:8080/"
        },
        "id": "qHgksozElD3J",
        "outputId": "4e3d479b-a69d-434c-cdba-6261b5310244"
      },
      "outputs": [
        {
          "output_type": "stream",
          "name": "stdout",
          "text": [
            "Upper case: SIVA\n",
            "Lower case: siva\n",
            "Capitalized: Siva\n",
            "Replaced: Siva\n"
          ]
        }
      ],
      "source": [
        "# Define a string\n",
        "name = \"Siva\"\n",
        "# Convert to upper case\n",
        "upper_case = name.upper()\n",
        "print(\"Upper case:\", upper_case)\n",
        "\n",
        "# Convert to lower case\n",
        "lower_case = name.lower()\n",
        "print(\"Lower case:\", lower_case)\n",
        "\n",
        "# Capitalize the string\n",
        "capitalized = name.capitalize()\n",
        "print(\"Capitalized:\", capitalized)\n",
        "\n",
        "# Replace 'e' with 'E'\n",
        "replaced = name.replace('e', 'E')\n",
        "print(\"Replaced:\", replaced)"
      ]
    },
    {
      "cell_type": "code",
      "source": [
        "# Define a list\n",
        "L = [1, 2, 3]\n",
        "\n",
        "# Extend the list\n",
        "L.extend([5, 6, 7])\n",
        "\n",
        "# Remove the 5th value\n",
        "del L[4]\n",
        "\n",
        "print(\"Extended list:\", L)"
      ],
      "metadata": {
        "colab": {
          "base_uri": "https://localhost:8080/"
        },
        "id": "GkW7a8fXu0w5",
        "outputId": "be5aa1fc-9024-4f3a-8abe-f2aa4e3ec152"
      },
      "execution_count": 2,
      "outputs": [
        {
          "output_type": "stream",
          "name": "stdout",
          "text": [
            "Extended list: [1, 2, 3, 5, 7]\n"
          ]
        }
      ]
    },
    {
      "cell_type": "code",
      "source": [
        "# Define a dictionary\n",
        "d = {'mango': 10, 'banana': 0, 'apple': 15, 'orange': 0, 'pineapple': 20}\n",
        "\n",
        "# Remove out of stock fruits (value == 0)\n",
        "out_of_stock = [key for key, value in d.items() if value == 0]\n",
        "for fruit in out_of_stock:\n",
        "    del d[fruit]\n",
        "\n",
        "# Update mango quantity to 15 and decrease pineapple by 5\n",
        "d['mango'] = 15\n",
        "d['pineapple'] -= 5\n",
        "\n",
        "print(\"Updated dictionary:\", d)"
      ],
      "metadata": {
        "colab": {
          "base_uri": "https://localhost:8080/"
        },
        "id": "7cGfiiJAu3yT",
        "outputId": "6f3856e3-5b39-48d4-c9ce-19a95263bac9"
      },
      "execution_count": 3,
      "outputs": [
        {
          "output_type": "stream",
          "name": "stdout",
          "text": [
            "Updated dictionary: {'mango': 15, 'apple': 15, 'pineapple': 15}\n"
          ]
        }
      ]
    },
    {
      "cell_type": "code",
      "source": [
        "\n",
        "# Given list\n",
        "a = [2, 4, 6, 8, 10]\n",
        "\n",
        "# Problem 1\n",
        "a += [12, 14, 16, 18]\n",
        "print(a)\n"
      ],
      "metadata": {
        "colab": {
          "base_uri": "https://localhost:8080/"
        },
        "id": "f4fuPfD9u7RS",
        "outputId": "186976fc-a8ec-4628-b975-54a032913e24"
      },
      "execution_count": 4,
      "outputs": [
        {
          "output_type": "stream",
          "name": "stdout",
          "text": [
            "[2, 4, 6, 8, 10, 12, 14, 16, 18]\n"
          ]
        }
      ]
    },
    {
      "cell_type": "code",
      "source": [
        "\n",
        "# Problem 2\n",
        "a[:] = [-i for i in a][::-1] + [0]\n",
        "print(a)"
      ],
      "metadata": {
        "colab": {
          "base_uri": "https://localhost:8080/"
        },
        "id": "1fWzZqvSu-i-",
        "outputId": "7a353a1c-8c69-47b4-fcef-8284ab9613b7"
      },
      "execution_count": 5,
      "outputs": [
        {
          "output_type": "stream",
          "name": "stdout",
          "text": [
            "[-18, -16, -14, -12, -10, -8, -6, -4, -2, 0]\n"
          ]
        }
      ]
    },
    {
      "cell_type": "code",
      "source": [
        "\n",
        "# Problem 3\n",
        "a[:] = [2, 3, 4, 5, 6, 7, 8, 10]\n",
        "print(a)"
      ],
      "metadata": {
        "colab": {
          "base_uri": "https://localhost:8080/"
        },
        "id": "29Mv01ZKvB4f",
        "outputId": "adc3caae-3d31-47a9-a5ea-833e3b07c2cb"
      },
      "execution_count": 6,
      "outputs": [
        {
          "output_type": "stream",
          "name": "stdout",
          "text": [
            "[2, 3, 4, 5, 6, 7, 8, 10]\n"
          ]
        }
      ]
    },
    {
      "cell_type": "code",
      "source": [
        "# Problem 4\n",
        "a[3:3] = ['a', 'b', 'c']\n",
        "print(a)\n",
        ""
      ],
      "metadata": {
        "colab": {
          "base_uri": "https://localhost:8080/"
        },
        "id": "gImES689vGVv",
        "outputId": "e7de073c-ffb5-474c-e32a-35a2f99edc34"
      },
      "execution_count": 7,
      "outputs": [
        {
          "output_type": "stream",
          "name": "stdout",
          "text": [
            "[2, 3, 4, 'a', 'b', 'c', 5, 6, 7, 8, 10]\n"
          ]
        }
      ]
    },
    {
      "cell_type": "code",
      "source": [
        "# Problem 5\n",
        "a = a\n",
        "print(a)\n",
        "\n"
      ],
      "metadata": {
        "colab": {
          "base_uri": "https://localhost:8080/"
        },
        "id": "XOPwjt3gvKTA",
        "outputId": "f3244d67-54e0-4fba-a5e0-6b835a6ac9d0"
      },
      "execution_count": 8,
      "outputs": [
        {
          "output_type": "stream",
          "name": "stdout",
          "text": [
            "[2, 3, 4, 'a', 'b', 'c', 5, 6, 7, 8, 10]\n"
          ]
        }
      ]
    },
    {
      "cell_type": "code",
      "source": [
        "\n",
        "# Problem 6\n",
        "a[0:0] = []\n",
        "print(a[0:0])"
      ],
      "metadata": {
        "colab": {
          "base_uri": "https://localhost:8080/"
        },
        "id": "wr8uDpVKvNJQ",
        "outputId": "8263b0a8-e586-413d-fac6-4652808afff9"
      },
      "execution_count": 9,
      "outputs": [
        {
          "output_type": "stream",
          "name": "stdout",
          "text": [
            "[]\n"
          ]
        }
      ]
    },
    {
      "cell_type": "code",
      "source": [
        "# Problem 7\n",
        "print(a[::-1])\n"
      ],
      "metadata": {
        "colab": {
          "base_uri": "https://localhost:8080/"
        },
        "id": "ZOHC_HFyvP6u",
        "outputId": "a22c2ee7-97de-4696-ac47-84d1fc9a78d4"
      },
      "execution_count": 10,
      "outputs": [
        {
          "output_type": "stream",
          "name": "stdout",
          "text": [
            "[10, 8, 7, 6, 5, 'c', 'b', 'a', 4, 3, 2]\n"
          ]
        }
      ]
    },
    {
      "cell_type": "code",
      "source": [
        "# Problem 8\n",
        "print(a[0:3])\n",
        ""
      ],
      "metadata": {
        "colab": {
          "base_uri": "https://localhost:8080/"
        },
        "id": "5j8NVRTgvUPo",
        "outputId": "c4c24a32-254e-4eea-b898-0acf91f112b6"
      },
      "execution_count": 11,
      "outputs": [
        {
          "output_type": "stream",
          "name": "stdout",
          "text": [
            "[2, 3, 4]\n"
          ]
        }
      ]
    },
    {
      "cell_type": "code",
      "source": [
        "\n",
        "# Problem 9\n",
        "print(a[2:])"
      ],
      "metadata": {
        "colab": {
          "base_uri": "https://localhost:8080/"
        },
        "id": "vMnqxhQkvXSz",
        "outputId": "e0df352c-18ab-46df-fdec-9edd54a74895"
      },
      "execution_count": 12,
      "outputs": [
        {
          "output_type": "stream",
          "name": "stdout",
          "text": [
            "[4, 'a', 'b', 'c', 5, 6, 7, 8, 10]\n"
          ]
        }
      ]
    },
    {
      "cell_type": "code",
      "source": [
        "# Problem 10\n",
        "a[1:4] = []\n",
        "print(a)"
      ],
      "metadata": {
        "colab": {
          "base_uri": "https://localhost:8080/"
        },
        "id": "xWpmkd6tvZ1I",
        "outputId": "5281ecb6-1904-4f4c-fbbc-7780d592970a"
      },
      "execution_count": 13,
      "outputs": [
        {
          "output_type": "stream",
          "name": "stdout",
          "text": [
            "[2, 'b', 'c', 5, 6, 7, 8, 10]\n"
          ]
        }
      ]
    },
    {
      "cell_type": "code",
      "source": [
        "# Problem 11\n",
        "print(a[1:4])"
      ],
      "metadata": {
        "colab": {
          "base_uri": "https://localhost:8080/"
        },
        "id": "wv2dngIqvc0i",
        "outputId": "db5728ec-1e1e-40ec-edbd-ddd45e3d4137"
      },
      "execution_count": 14,
      "outputs": [
        {
          "output_type": "stream",
          "name": "stdout",
          "text": [
            "['b', 'c', 5]\n"
          ]
        }
      ]
    },
    {
      "cell_type": "code",
      "source": [
        "# Problem 12\n",
        "a[-1:] = a[1:] + [12, 14, 16, 18, 20]\n",
        "print(a)"
      ],
      "metadata": {
        "colab": {
          "base_uri": "https://localhost:8080/"
        },
        "id": "5e3p8CTqveiT",
        "outputId": "4fc664ba-99f3-4e33-a31b-dfff293e78c9"
      },
      "execution_count": 15,
      "outputs": [
        {
          "output_type": "stream",
          "name": "stdout",
          "text": [
            "[2, 'b', 'c', 5, 6, 7, 8, 'b', 'c', 5, 6, 7, 8, 10, 12, 14, 16, 18, 20]\n"
          ]
        }
      ]
    }
  ]
}