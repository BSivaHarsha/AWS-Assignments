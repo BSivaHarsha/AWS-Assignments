{
  "nbformat": 4,
  "nbformat_minor": 0,
  "metadata": {
    "colab": {
      "provenance": [],
      "authorship_tag": "ABX9TyMDkueqKTEA4nRmBXcIO/VN",
      "include_colab_link": true
    },
    "kernelspec": {
      "name": "python3",
      "display_name": "Python 3"
    },
    "language_info": {
      "name": "python"
    }
  },
  "cells": [
    {
      "cell_type": "markdown",
      "metadata": {
        "id": "view-in-github",
        "colab_type": "text"
      },
      "source": [
        "<a href=\"https://colab.research.google.com/github/BSivaHarsha/AWS-Assignments/blob/main/Assignment_5.ipynb\" target=\"_parent\"><img src=\"https://colab.research.google.com/assets/colab-badge.svg\" alt=\"Open In Colab\"/></a>"
      ]
    },
    {
      "cell_type": "code",
      "execution_count": 2,
      "metadata": {
        "colab": {
          "base_uri": "https://localhost:8080/"
        },
        "id": "Lxw6ZWarv5OS",
        "outputId": "d15c61e0-40f1-41e8-b9b4-f001ade6a736"
      },
      "outputs": [
        {
          "output_type": "stream",
          "name": "stdout",
          "text": [
            "Concatenated string: Hello World\n"
          ]
        }
      ],
      "source": [
        "str1 = \"Hello\"\n",
        "str2 = \"World\"\n",
        "concatenated_string = str1 + \" \" + str2\n",
        "print(\"Concatenated string:\", concatenated_string)"
      ]
    },
    {
      "cell_type": "code",
      "source": [
        "# Using the % operator\n",
        "name = \"Alice\"\n",
        "age = 30\n",
        "formatted_string = \"Name: %s, Age: %d\" % (name, age)\n",
        "print(\"Formatted string (using % operator):\", formatted_string)\n",
        ""
      ],
      "metadata": {
        "colab": {
          "base_uri": "https://localhost:8080/"
        },
        "id": "3vZm5v6owFrO",
        "outputId": "11171c01-8837-40ce-90f1-89cf37be399f"
      },
      "execution_count": 3,
      "outputs": [
        {
          "output_type": "stream",
          "name": "stdout",
          "text": [
            "Formatted string (using % operator): Name: Alice, Age: 30\n"
          ]
        }
      ]
    },
    {
      "cell_type": "code",
      "source": [
        "\n",
        "# Using the % operator\n",
        "name = \"Alice\"\n",
        "age = 30\n",
        "formatted_string = \"Name: %s, Age: %d\" % (name, age)\n",
        "print(\"Formatted string (using % operator):\", formatted_string)"
      ],
      "metadata": {
        "colab": {
          "base_uri": "https://localhost:8080/"
        },
        "id": "vbVz2kRdwJPt",
        "outputId": "6267c800-887d-4b6c-e8ec-2dcf03a96474"
      },
      "execution_count": 4,
      "outputs": [
        {
          "output_type": "stream",
          "name": "stdout",
          "text": [
            "Formatted string (using % operator): Name: Alice, Age: 30\n"
          ]
        }
      ]
    },
    {
      "cell_type": "code",
      "source": [
        "# Using the format() method\n",
        "formatted_string = \"Name: {}, Age: {}\".format(name, age)\n",
        "print(\"Formatted string (using format() method):\", formatted_string)\n",
        "\n",
        "# Using f-strings (formatted string literals)\n",
        "formatted_string = f\"Name: {name}, Age: {age}\"\n",
        "print(\"Formatted string (using f-strings):\", formatted_string)\n",
        "\n",
        "# Using template strings\n",
        "from string import Template\n",
        "template = Template(\"Name: $name, Age: $age\")\n",
        "formatted_string = template.substitute(name=name, age=age)\n",
        "print(\"Formatted string (using template strings):\", formatted_string)"
      ],
      "metadata": {
        "colab": {
          "base_uri": "https://localhost:8080/"
        },
        "id": "XSEmZfTBwRiO",
        "outputId": "9499642b-7774-421d-ccd5-226f4909476f"
      },
      "execution_count": 5,
      "outputs": [
        {
          "output_type": "stream",
          "name": "stdout",
          "text": [
            "Formatted string (using format() method): Name: Alice, Age: 30\n",
            "Formatted string (using f-strings): Name: Alice, Age: 30\n",
            "Formatted string (using template strings): Name: Alice, Age: 30\n"
          ]
        }
      ]
    },
    {
      "cell_type": "code",
      "source": [
        "# Addition\n",
        "result_add = 5 + 3\n",
        "print(\"Addition result:\", result_add)\n",
        "\n",
        "# Subtraction\n",
        "result_sub = 7 - 2\n",
        "print(\"Subtraction result:\", result_sub)\n",
        "\n",
        "# Multiplication\n",
        "result_mul = 4 * 6\n",
        "print(\"Multiplication result:\", result_mul)\n",
        "\n",
        "# Division\n",
        "result_div = 10 / 2\n",
        "print(\"Division result:\", result_div)\n",
        "\n",
        "# Exponentiation\n",
        "result_exp = 2 ** 3\n",
        "print(\"Exponentiation result:\", result_exp)\n",
        "\n",
        "# Modulus\n",
        "result_mod = 15 % 4\n",
        "print(\"Modulus result:\", result_mod)\n",
        "# Example for -= (Subtraction assignment)\n",
        "x = 10\n",
        "x -= 3  # Equivalent to x = x - 3\n",
        "print(\"After subtraction assignment:\", x)\n",
        "\n",
        "# Example for *= (Multiplication assignment)\n",
        "y = 5\n",
        "y *= 2  # Equivalent to y = y * 2\n",
        "print(\"After multiplication assignment:\", y)\n",
        "\n",
        "# Example for /= (Division assignment)\n",
        "z = 20\n",
        "z /= 4  # Equivalent to z = z / 4\n",
        "print(\"After division assignment:\", z)"
      ],
      "metadata": {
        "colab": {
          "base_uri": "https://localhost:8080/"
        },
        "id": "iUEOZTF7wYIJ",
        "outputId": "1358d933-f7c9-4f46-f8b4-2151bc688d31"
      },
      "execution_count": 6,
      "outputs": [
        {
          "output_type": "stream",
          "name": "stdout",
          "text": [
            "Addition result: 8\n",
            "Subtraction result: 5\n",
            "Multiplication result: 24\n",
            "Division result: 5.0\n",
            "Exponentiation result: 8\n",
            "Modulus result: 3\n",
            "After subtraction assignment: 7\n",
            "After multiplication assignment: 10\n",
            "After division assignment: 5.0\n"
          ]
        }
      ]
    }
  ]
}