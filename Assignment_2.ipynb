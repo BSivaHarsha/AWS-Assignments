{
  "nbformat": 4,
  "nbformat_minor": 0,
  "metadata": {
    "colab": {
      "provenance": [],
      "authorship_tag": "ABX9TyO4kiTW5BMg03q532NMZ1nl",
      "include_colab_link": true
    },
    "kernelspec": {
      "name": "python3",
      "display_name": "Python 3"
    },
    "language_info": {
      "name": "python"
    }
  },
  "cells": [
    {
      "cell_type": "markdown",
      "metadata": {
        "id": "view-in-github",
        "colab_type": "text"
      },
      "source": [
        "<a href=\"https://colab.research.google.com/github/BSivaHarsha/AWS-Assignments/blob/main/Assignment_2.ipynb\" target=\"_parent\"><img src=\"https://colab.research.google.com/assets/colab-badge.svg\" alt=\"Open In Colab\"/></a>"
      ]
    },
    {
      "cell_type": "code",
      "execution_count": null,
      "metadata": {
        "colab": {
          "base_uri": "https://localhost:8080/"
        },
        "id": "9BJCEH9KbC2D",
        "outputId": "5f84aa5e-e734-42b4-f5d2-f6f1793aec38"
      },
      "outputs": [
        {
          "output_type": "stream",
          "name": "stdout",
          "text": [
            "Capitalize function: Hello world\n",
            "Replicated .upper() function: HELLO WORLD\n",
            "Replicated .lower() function: hello world\n"
          ]
        }
      ],
      "source": [
        "string = \"hello world\"\n",
        "capitalize_function = string.capitalize()\n",
        "upper_function = string.upper()\n",
        "lower_function = string.lower()\n",
        "print(\"Capitalize function:\", capitalize_function)\n",
        "print(\"Replicated .upper() function:\", upper_function)\n",
        "print(\"Replicated .lower() function:\", lower_function)\n"
      ]
    },
    {
      "cell_type": "code",
      "source": [
        "given_sequence = [1,2,34,65,1,2,65,66,44,33,22,87,123412,9,78,76]\n",
        "odd_sequence = [num for num in given_sequence if num % 2 != 0]\n",
        "print(\"Odd sequence:\", odd_sequence)"
      ],
      "metadata": {
        "colab": {
          "base_uri": "https://localhost:8080/"
        },
        "id": "GGfSm_FrbboO",
        "outputId": "eccc759a-3f0c-42b9-b9a6-14b151e4f3d2"
      },
      "execution_count": null,
      "outputs": [
        {
          "output_type": "stream",
          "name": "stdout",
          "text": [
            "Odd sequence: [1, 65, 1, 65, 33, 87, 9]\n"
          ]
        }
      ]
    },
    {
      "cell_type": "code",
      "source": [
        "fruits = {'apple': 10, 'mango': 20, 'pineapple': 25, 'orange': 30, 'strawberry': 50, 'jackfruit': 10}\n",
        "\n",
        "fruits_more_than_20 = {key: value for key, value in fruits.items() if value > 20}\n",
        "print(\"Fruits with values more than 20:\", fruits_more_than_20)\n"
      ],
      "metadata": {
        "colab": {
          "base_uri": "https://localhost:8080/"
        },
        "id": "iK9WPZ1fbeyF",
        "outputId": "1900b010-8dcf-49d7-b44f-dc79d7402075"
      },
      "execution_count": null,
      "outputs": [
        {
          "output_type": "stream",
          "name": "stdout",
          "text": [
            "Fruits with values more than 20: {'pineapple': 25, 'orange': 30, 'strawberry': 50}\n"
          ]
        }
      ]
    }
  ]
}